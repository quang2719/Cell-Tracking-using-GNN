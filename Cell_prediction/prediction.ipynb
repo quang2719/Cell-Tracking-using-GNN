{
 "cells": [
  {
   "cell_type": "code",
   "execution_count": 2,
   "metadata": {},
   "outputs": [],
   "source": [
    "import pandas as pd\n",
    "import os"
   ]
  },
  {
   "cell_type": "code",
   "execution_count": 3,
   "metadata": {},
   "outputs": [],
   "source": [
    "import os\n",
    "\n",
    "for entry in os.listdir('.'):\n",
    "    if os.path.isdir(entry):\n",
    "        print(entry)"
   ]
  },
  {
   "cell_type": "code",
   "execution_count": 4,
   "metadata": {},
   "outputs": [],
   "source": [
    "# Define the file path and file name pattern\n",
    "file_path = '../../Data_folder/CellTracking_example_PhC-C2DH-U373/nature_method_ctc/Training/PhC-C2DH-U373/01_CSV/csv/'  # Update this to your actual file path\n",
    "file_name_frame = 'frame_{:03d}.csv'\n"
   ]
  },
  {
   "cell_type": "code",
   "execution_count": 10,
   "metadata": {},
   "outputs": [],
   "source": [
    "# Initialize an empty list to store DataFrames\n",
    "data_frames = []\n",
    "\n",
    "# Loop through the file names from frame_000.csv to frame_115.csv\n",
    "for i in range(115):\n",
    "    file_name = file_name_frame.format(i)\n",
    "    full_path = os.path.join(file_path, file_name)\n",
    "    \n",
    "    # Read the CSV file and select the required columns\n",
    "    df = pd.read_csv(full_path)\n",
    "    \n",
    "    # Add a new column 'frame' to indicate the frame number\n",
    "    df['frame'] = i\n",
    "    \n",
    "    # Append the DataFrame to the list\n",
    "    data_frames.append(df)\n",
    "\n"
   ]
  },
  {
   "cell_type": "code",
   "execution_count": 12,
   "metadata": {},
   "outputs": [
    {
     "name": "stdout",
     "output_type": "stream",
     "text": [
      "   seg_label  frame_num  area  min_row_bb  min_col_bb  max_row_bb  max_col_bb  \\\n",
      "0          1          0   249         103          70         120          87   \n",
      "1          2          0   193          61         160          76         175   \n",
      "2          3          0   145         167         261         180         274   \n",
      "3          4          0   145         353         359         366         372   \n",
      "4          5          0   171         418         248         431         263   \n",
      "5          6          0   145         331         513         344         526   \n",
      "6          1          1   249          95          69         112          86   \n",
      "7          2          1   193          64         166          79         181   \n",
      "8          3          1   145         163         266         176         279   \n",
      "9          4          1   168         362         359         376         373   \n",
      "\n",
      "   centroid_row  centroid_col  major_axis_length  ...  feat_119  feat_120  \\\n",
      "0           111            78          17.809343  ...  0.172564 -0.035850   \n",
      "1            68           167          15.675465  ...  0.157397 -0.045033   \n",
      "2           173           267          13.574825  ...  0.163638 -0.058044   \n",
      "3           359           365          13.574825  ...  0.195650 -0.054609   \n",
      "4           424           255          15.788070  ...  0.176284 -0.060271   \n",
      "5           337           519          13.574825  ...  0.174700 -0.044893   \n",
      "6           103            77          17.809343  ...  0.154141 -0.048256   \n",
      "7            71           173          15.675465  ...  0.144413 -0.040275   \n",
      "8           169           272          13.574825  ...  0.165532 -0.067464   \n",
      "9           369           365          14.944341  ...  0.166506 -0.053780   \n",
      "\n",
      "   feat_121  feat_122  feat_123  feat_124  feat_125  feat_126  feat_127  frame  \n",
      "0 -0.137099  0.053501  0.053145  0.119861  0.008729  0.056287  0.008243      0  \n",
      "1 -0.140841  0.043300  0.055250  0.100748 -0.003991  0.060716  0.001053      0  \n",
      "2 -0.135525  0.013302  0.040155  0.131101  0.006829  0.044568  0.026889      0  \n",
      "3 -0.133566  0.038264  0.030503  0.107573  0.044457  0.024699  0.042434      0  \n",
      "4 -0.133815  0.020011  0.065094  0.127903 -0.003783  0.048007  0.035941      0  \n",
      "5 -0.125167  0.024670  0.029998  0.117403  0.019089  0.064100  0.021581      0  \n",
      "6 -0.138382  0.074426  0.048753  0.113224  0.028655  0.045990  0.024952      1  \n",
      "7 -0.142645  0.046638  0.053910  0.121729 -0.001613  0.041856  0.008145      1  \n",
      "8 -0.121485  0.015937  0.033049  0.132791  0.011350  0.037057  0.039152      1  \n",
      "9 -0.126479  0.056659  0.084811  0.132742  0.002695  0.050608  0.025846      1  \n",
      "\n",
      "[10 rows x 143 columns]\n"
     ]
    }
   ],
   "source": [
    "# Concatenate all DataFrames into a single DataFrame\n",
    "all_data = pd.concat(data_frames, ignore_index=True)\n",
    "\n",
    "# Display the first few rows of the combined DataFrame\n",
    "print(all_data.head(10))\n"
   ]
  },
  {
   "cell_type": "code",
   "execution_count": 13,
   "metadata": {},
   "outputs": [
    {
     "name": "stdout",
     "output_type": "stream",
     "text": [
      "number of frame: 115\n",
      "number of columns: 143\n"
     ]
    }
   ],
   "source": [
    "print(\"number of frame:\",len(all_data['frame'].unique()))\n",
    "print('number of columns:',len(all_data.columns))"
   ]
  },
  {
   "cell_type": "code",
   "execution_count": null,
   "metadata": {},
   "outputs": [],
   "source": []
  }
 ],
 "metadata": {
  "kernelspec": {
   "display_name": "Python 3",
   "language": "python",
   "name": "python3"
  },
  "language_info": {
   "codemirror_mode": {
    "name": "ipython",
    "version": 3
   },
   "file_extension": ".py",
   "mimetype": "text/x-python",
   "name": "python",
   "nbconvert_exporter": "python",
   "pygments_lexer": "ipython3",
   "version": "3.11.6"
  }
 },
 "nbformat": 4,
 "nbformat_minor": 2
}
