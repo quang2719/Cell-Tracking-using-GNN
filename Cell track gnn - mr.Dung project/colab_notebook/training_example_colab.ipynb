{
  "cells": [
    {
      "cell_type": "markdown",
      "metadata": {
        "id": "lU3MFoThkqze"
      },
      "source": [
        "# **This Notebook is provided Training Example (PhC-C2DH-U373 Dataset) Using Colab**\n",
        "The notebook arragemnet is as follow\n",
        "\n",
        "*   **Prequesities**\n",
        "  1.   Conect to github, Clone the repository\n",
        "  2.   Configurate working directory and google drive connetction\n",
        "  3.   Download and install Conda, create conda enviroment with all the required packages\n",
        "\n",
        "*   **Trainings**\n",
        "  1.   Run feature extraction for metric learning\n",
        "  2.   Run metric learning training\n",
        "  3.   Run compreensive feature extraction with metric learning\n",
        "  4.   Run Cell Tracking training\n",
        "\n",
        "*   **Inference**\n",
        "\n",
        "\n",
        "\n",
        "\n",
        "\n",
        "\n"
      ]
    },
    {
      "cell_type": "code",
      "execution_count": 1,
      "metadata": {
        "colab": {
          "base_uri": "https://localhost:8080/"
        },
        "id": "llqUZ8QkjfJr",
        "outputId": "0076c6f4-edb7-41e8-c009-ee49e22dc4eb"
      },
      "outputs": [
        {
          "name": "stdout",
          "output_type": "stream",
          "text": [
            "Mounted at /content/drive\n"
          ]
        }
      ],
      "source": [
        "from google.colab import drive\n",
        "drive.mount('/content/drive')"
      ]
    },
    {
      "cell_type": "markdown",
      "metadata": {
        "id": "XjK6-8l6nTbv"
      },
      "source": [
        "# **Prequesities**"
      ]
    },
    {
      "cell_type": "markdown",
      "metadata": {
        "id": "nQUP3ZYLmVOa"
      },
      "source": [
        "# 1. Conect to github, Clone the repository\n"
      ]
    },
    {
      "cell_type": "code",
      "execution_count": 2,
      "metadata": {
        "colab": {
          "base_uri": "https://localhost:8080/"
        },
        "id": "BNq7hyZeReV9",
        "outputId": "916f15d4-669e-4f4e-ed97-7aeb5e63515b"
      },
      "outputs": [
        {
          "name": "stdout",
          "output_type": "stream",
          "text": [
            "Cloning into 'cell-tracker-gnn'...\n",
            "remote: Enumerating objects: 504, done.\u001b[K\n",
            "remote: Counting objects: 100% (227/227), done.\u001b[K\n",
            "remote: Compressing objects: 100% (71/71), done.\u001b[K\n",
            "remote: Total 504 (delta 179), reused 191 (delta 156), pack-reused 277 (from 1)\u001b[K\n",
            "Receiving objects: 100% (504/504), 38.01 MiB | 9.72 MiB/s, done.\n",
            "Resolving deltas: 100% (261/261), done.\n"
          ]
        }
      ],
      "source": [
        "import os\n",
        "! git clone https://github.com/talbenha/cell-tracker-gnn\n",
        "\n",
        "curr_workdir = f'./cell-tracker-gnn'\n",
        "if os.path.exists(curr_workdir):\n",
        "  os.chdir(curr_workdir)"
      ]
    },
    {
      "cell_type": "markdown",
      "metadata": {
        "id": "sg-StobkkpOw"
      },
      "source": [
        "# 2. Configurate working directory and google drive connetction\n"
      ]
    },
    {
      "cell_type": "code",
      "execution_count": 3,
      "metadata": {
        "colab": {
          "base_uri": "https://localhost:8080/"
        },
        "id": "SkznbTxwGFTf",
        "outputId": "e6adc7ab-1822-4cc8-8dd2-6e5dc2637c69"
      },
      "outputs": [
        {
          "name": "stdout",
          "output_type": "stream",
          "text": [
            "Drive already mounted at /content/drive; to attempt to forcibly remount, call drive.mount(\"/content/drive\", force_remount=True).\n"
          ]
        },
        {
          "data": {
            "text/plain": [
              "['Training', 'Test']"
            ]
          },
          "execution_count": 3,
          "metadata": {},
          "output_type": "execute_result"
        }
      ],
      "source": [
        "from google.colab import drive\n",
        "drive.mount('/content/drive')\n",
        "file_path = '/content/drive/My Drive/CellTracking/nature_method_ctc/' # TODO: update this path\n",
        "os.listdir(file_path)"
      ]
    },
    {
      "cell_type": "markdown",
      "metadata": {
        "id": "uAE2W8WnnROI"
      },
      "source": [
        "# 3. Download and install Conda, create conda enviroment with all the required packages"
      ]
    },
    {
      "cell_type": "code",
      "execution_count": null,
      "metadata": {
        "colab": {
          "base_uri": "https://localhost:8080/"
        },
        "id": "Pp9kcmdI47FA",
        "outputId": "b5ec463f-8b28-4e3a-a48f-7ed62aa233a0"
      },
      "outputs": [
        {
          "name": "stdout",
          "output_type": "stream",
          "text": [
            "\n",
            "installing miniconda\n",
            "--2024-08-22 14:54:28--  https://repo.anaconda.com/miniconda/Miniconda3-py37_4.8.2-Linux-x86_64.sh\n",
            "Resolving repo.anaconda.com (repo.anaconda.com)... 104.16.32.241, 104.16.191.158, 2606:4700::6810:bf9e, ...\n",
            "Connecting to repo.anaconda.com (repo.anaconda.com)|104.16.32.241|:443... connected.\n",
            "HTTP request sent, awaiting response... 200 OK\n",
            "Length: 85055499 (81M) [application/x-sh]\n",
            "Saving to: ‘Miniconda3-py37_4.8.2-Linux-x86_64.sh’\n",
            "\n",
            "Miniconda3-py37_4.8 100%[===================>]  81.12M  29.4MB/s    in 2.8s    \n",
            "\n",
            "2024-08-22 14:54:32 (29.4 MB/s) - ‘Miniconda3-py37_4.8.2-Linux-x86_64.sh’ saved [85055499/85055499]\n",
            "\n",
            "PREFIX=/usr/local\n",
            "Unpacking payload ...\n",
            "Collecting package metadata (current_repodata.json): - \b\b\\ \b\bdone\n",
            "Solving environment: / \b\b- \b\bdone\n",
            "\n",
            "## Package Plan ##\n",
            "\n",
            "  environment location: /usr/local\n",
            "\n",
            "  added / updated specs:\n",
            "    - _libgcc_mutex==0.1=main\n",
            "    - asn1crypto==1.3.0=py37_0\n",
            "    - ca-certificates==2020.1.1=0\n",
            "    - certifi==2019.11.28=py37_0\n",
            "    - cffi==1.14.0=py37h2e261b9_0\n",
            "    - chardet==3.0.4=py37_1003\n",
            "    - conda-package-handling==1.6.0=py37h7b6447c_0\n",
            "    - conda==4.8.2=py37_0\n",
            "    - cryptography==2.8=py37h1ba5d50_0\n",
            "    - idna==2.8=py37_0\n",
            "    - ld_impl_linux-64==2.33.1=h53a641e_7\n",
            "    - libedit==3.1.20181209=hc058e9b_0\n",
            "    - libffi==3.2.1=hd88cf55_4\n",
            "    - libgcc-ng==9.1.0=hdf63c60_0\n",
            "    - libstdcxx-ng==9.1.0=hdf63c60_0\n",
            "    - ncurses==6.2=he6710b0_0\n",
            "    - openssl==1.1.1d=h7b6447c_4\n",
            "    - pip==20.0.2=py37_1\n",
            "    - pycosat==0.6.3=py37h7b6447c_0\n",
            "    - pycparser==2.19=py37_0\n",
            "    - pyopenssl==19.1.0=py37_0\n",
            "    - pysocks==1.7.1=py37_0\n",
            "    - python==3.7.6=h0371630_2\n",
            "    - readline==7.0=h7b6447c_5\n",
            "    - requests==2.22.0=py37_1\n",
            "    - ruamel_yaml==0.15.87=py37h7b6447c_0\n",
            "    - setuptools==45.2.0=py37_0\n",
            "    - six==1.14.0=py37_0\n",
            "    - sqlite==3.31.1=h7b6447c_0\n",
            "    - tk==8.6.8=hbc83047_0\n",
            "    - tqdm==4.42.1=py_0\n",
            "    - urllib3==1.25.8=py37_0\n",
            "    - wheel==0.34.2=py37_0\n",
            "    - xz==5.2.4=h14c3975_4\n",
            "    - yaml==0.1.7=had09818_2\n",
            "    - zlib==1.2.11=h7b6447c_3\n",
            "\n",
            "\n",
            "The following NEW packages will be INSTALLED:\n",
            "\n",
            "  _libgcc_mutex      pkgs/main/linux-64::_libgcc_mutex-0.1-main\n",
            "  asn1crypto         pkgs/main/linux-64::asn1crypto-1.3.0-py37_0\n",
            "  ca-certificates    pkgs/main/linux-64::ca-certificates-2020.1.1-0\n",
            "  certifi            pkgs/main/linux-64::certifi-2019.11.28-py37_0\n",
            "  cffi               pkgs/main/linux-64::cffi-1.14.0-py37h2e261b9_0\n",
            "  chardet            pkgs/main/linux-64::chardet-3.0.4-py37_1003\n",
            "  conda              pkgs/main/linux-64::conda-4.8.2-py37_0\n",
            "  conda-package-han~ pkgs/main/linux-64::conda-package-handling-1.6.0-py37h7b6447c_0\n",
            "  cryptography       pkgs/main/linux-64::cryptography-2.8-py37h1ba5d50_0\n",
            "  idna               pkgs/main/linux-64::idna-2.8-py37_0\n",
            "  ld_impl_linux-64   pkgs/main/linux-64::ld_impl_linux-64-2.33.1-h53a641e_7\n",
            "  libedit            pkgs/main/linux-64::libedit-3.1.20181209-hc058e9b_0\n",
            "  libffi             pkgs/main/linux-64::libffi-3.2.1-hd88cf55_4\n",
            "  libgcc-ng          pkgs/main/linux-64::libgcc-ng-9.1.0-hdf63c60_0\n",
            "  libstdcxx-ng       pkgs/main/linux-64::libstdcxx-ng-9.1.0-hdf63c60_0\n",
            "  ncurses            pkgs/main/linux-64::ncurses-6.2-he6710b0_0\n",
            "  openssl            pkgs/main/linux-64::openssl-1.1.1d-h7b6447c_4\n",
            "  pip                pkgs/main/linux-64::pip-20.0.2-py37_1\n",
            "  pycosat            pkgs/main/linux-64::pycosat-0.6.3-py37h7b6447c_0\n",
            "  pycparser          pkgs/main/linux-64::pycparser-2.19-py37_0\n",
            "  pyopenssl          pkgs/main/linux-64::pyopenssl-19.1.0-py37_0\n",
            "  pysocks            pkgs/main/linux-64::pysocks-1.7.1-py37_0\n",
            "  python             pkgs/main/linux-64::python-3.7.6-h0371630_2\n",
            "  readline           pkgs/main/linux-64::readline-7.0-h7b6447c_5\n",
            "  requests           pkgs/main/linux-64::requests-2.22.0-py37_1\n",
            "  ruamel_yaml        pkgs/main/linux-64::ruamel_yaml-0.15.87-py37h7b6447c_0\n",
            "  setuptools         pkgs/main/linux-64::setuptools-45.2.0-py37_0\n",
            "  six                pkgs/main/linux-64::six-1.14.0-py37_0\n",
            "  sqlite             pkgs/main/linux-64::sqlite-3.31.1-h7b6447c_0\n",
            "  tk                 pkgs/main/linux-64::tk-8.6.8-hbc83047_0\n",
            "  tqdm               pkgs/main/noarch::tqdm-4.42.1-py_0\n",
            "  urllib3            pkgs/main/linux-64::urllib3-1.25.8-py37_0\n",
            "  wheel              pkgs/main/linux-64::wheel-0.34.2-py37_0\n",
            "  xz                 pkgs/main/linux-64::xz-5.2.4-h14c3975_4\n",
            "  yaml               pkgs/main/linux-64::yaml-0.1.7-had09818_2\n",
            "  zlib               pkgs/main/linux-64::zlib-1.2.11-h7b6447c_3\n",
            "\n",
            "\n",
            "Preparing transaction: | \b\b/ \b\b- \b\b\\ \b\bdone\n",
            "Executing transaction: / \b\b- \b\b\\ \b\b| \b\b/ \b\b- \b\b\\ \b\b| \b\b/ \b\b- \b\b\\ \b\b| \b\b/ \b\b- \b\b\\ \b\b| \b\b/ \b\b- \b\bdone\n",
            "installation finished.\n",
            "WARNING:\n",
            "    You currently have a PYTHONPATH environment variable set. This may cause\n",
            "    unexpected behavior when running the Python interpreter in Miniconda3.\n",
            "    For best results, please verify that your PYTHONPATH only points to\n",
            "    directories of packages that are compatible with the Python interpreter\n",
            "    in Miniconda3: /usr/local\n",
            "no change     /usr/local/condabin/conda\n",
            "no change     /usr/local/bin/conda\n",
            "no change     /usr/local/bin/conda-env\n",
            "no change     /usr/local/bin/activate\n",
            "no change     /usr/local/bin/deactivate\n",
            "no change     /usr/local/etc/profile.d/conda.sh\n",
            "no change     /usr/local/etc/fish/conf.d/conda.fish\n",
            "no change     /usr/local/shell/condabin/Conda.psm1\n",
            "no change     /usr/local/shell/condabin/conda-hook.ps1\n",
            "no change     /usr/local/lib/python3.7/site-packages/xontrib/conda.xsh\n",
            "no change     /usr/local/etc/profile.d/conda.csh\n",
            "modified      /root/.bashrc\n",
            "\n",
            "==> For changes to take effect, close and re-open your current shell. <==\n",
            "\n",
            "Collecting package metadata (current_repodata.json): ...working... done\n",
            "Solving environment: ...working... failed with initial frozen solve. Retrying with flexible solve.\n",
            "Collecting package metadata (repodata.json): ...working... done\n",
            "Solving environment: ...working... failed with initial frozen solve. Retrying with flexible solve.\n",
            "\n",
            "PackagesNotFoundError: The following packages are not available from current channels:\n",
            "\n",
            "  - _license\n",
            "\n",
            "Current channels:\n",
            "\n",
            "  - https://repo.anaconda.com/pkgs/main/linux-64\n",
            "  - https://repo.anaconda.com/pkgs/main/noarch\n",
            "  - https://repo.anaconda.com/pkgs/r/linux-64\n",
            "  - https://repo.anaconda.com/pkgs/r/noarch\n",
            "\n",
            "To search for alternate channels that may provide the conda package you're\n",
            "looking for, navigate to\n",
            "\n",
            "    https://anaconda.org\n",
            "\n",
            "and use the search bar at the top of the page.\n",
            "\n",
            "\n",
            "not found cell-tracking-challenge env 0\n",
            "\n",
            "Downloading and Extracting Packages\n",
            "_libgcc_mutex-0.1    | : 100% 1.0/1 [00:00<00:00,  6.90it/s]\n",
            "_tflow_select-2.1.0  | : 100% 1.0/1 [00:00<00:00, 18.59it/s]\n",
            "ca-certificates-2022 | : 100% 1.0/1 [00:00<00:00, 12.13it/s]\n",
            "ld_impl_linux-64-2.3 | : 100% 1.0/1 [00:00<00:00,  5.21it/s]\n",
            "libgfortran4-7.5.0   | : 100% 1.0/1 [00:00<00:00,  3.59it/s]\n",
            "libstdcxx-ng-11.2.0  | : 100% 1.0/1 [00:01<00:00,  6.33s/it]               \n",
            "llvm-openmp-12.0.1   | : 100% 1.0/1 [00:00<00:00, 12.84s/it]                 \n",
            "mysql-common-8.0.25  | : 100% 1.0/1 [00:00<00:00,  2.27it/s]\n",
            "_openmp_mutex-4.5    | : 100% 1.0/1 [00:00<00:00,  9.76it/s]\n",
            "libgfortran-ng-7.5.0 | : 100% 1.0/1 [00:00<00:00, 16.54it/s]\n",
            "libgcc-ng-12.1.0     | : 100% 1.0/1 [00:00<00:00, 10.00it/s]\n",
            "mkl-2020.4           | :  48% 0.47941778825366665/1 [11:21<11:14, 1294.78s/it]"
          ]
        }
      ],
      "source": [
        "################################################################################\n",
        "# INSTALL CONDA ON GOOGLE COLAB\n",
        "################################################################################\n",
        "\n",
        "# try to run the bare minimum to get a new conda env working\n",
        "env_name = 'cell-tracking-challenge'\n",
        "conda_path = ''\n",
        "try:\n",
        "    conda_path = ! which conda\n",
        "finally:\n",
        "    print('')\n",
        "\n",
        "if (len(conda_path) == 0):\n",
        "    print('installing miniconda')\n",
        "    ! wget https://repo.anaconda.com/miniconda/Miniconda3-py37_4.8.2-Linux-x86_64.sh\n",
        "    ! chmod +x Miniconda3-py37_4.8.2-Linux-x86_64.sh\n",
        "    ! bash ./Miniconda3-py37_4.8.2-Linux-x86_64.sh -b -f -p /usr/local\n",
        "    import sys\n",
        "    sys.path.append('/usr/local/lib/python3.7/site-packages/')\n",
        "    ! conda init\n",
        "    ! conda install -n root _license -y -q\n",
        "else:\n",
        "    print('found miniconda')\n",
        "\n",
        "conda_envs = ! conda env list\n",
        "res = [i for i in conda_envs if env_name in i]\n",
        "if (len(res) == 0):\n",
        "    print(f'not found {env_name} env', len(res))\n",
        "    ! conda create --name cell-tracking-challenge --file requirements-conda.txt\n",
        "else:\n",
        "    print(f'found {env_name} env', len(res))\n",
        "print(f'{env_name} was created')"
      ]
    },
    {
      "cell_type": "code",
      "execution_count": null,
      "metadata": {
        "id": "hRud_rqd-DeU"
      },
      "outputs": [],
      "source": [
        "%%bash\n",
        "source activate cell-tracking-challenge\n",
        "# install other requirements\n",
        "pip install -r requirements.txt\n",
        "pip install PyYAML==5.4.1"
      ]
    },
    {
      "cell_type": "markdown",
      "metadata": {
        "id": "tHvSRgPIlEFo"
      },
      "source": [
        "# **Training**\n",
        " The first two stages can be skipped (step #2 is long in colab) by using the pre-trained model (in step #3) provided under the [releases](https://github.com/talbenha/cell-tracker-gnn/releases) of the repository. For example for the pretrained model for PhC-C2DH-U373 dataset, download the software and find the model under `software/parameters/Features_Models/PhC-C2DH-U373/all_params.pth`"
      ]
    },
    {
      "cell_type": "markdown",
      "metadata": {
        "id": "mgdYwfgjneeD"
      },
      "source": [
        "# 1. Run feature extraction for metric learning\n"
      ]
    },
    {
      "cell_type": "code",
      "execution_count": null,
      "metadata": {
        "id": "jc8rZqC-JQAE"
      },
      "outputs": [],
      "source": [
        "%%bash\n",
        "# Đặt các biến môi trường\n",
        "export HYDRA_FULL_ERROR=1\n",
        "export FOLDER_PATH=/content/drive/MyDrive/CellTracking/nature_method_ctc # TODO: update this path\n",
        "export DATA_NAME=PhC-C2DH-U373 # TODO: update this path\n",
        "export SEQUENCE=01\n",
        "export MODALITY=\"2D\"\n",
        "export DATASET=\"${FOLDER_PATH}/${DATA_NAME}\"\n",
        "export CODE_TRA=src/inference/\n",
        "export PYTHONPATH=/content/cell-tracker-gnn"
      ]
    },
    {
      "cell_type": "code",
      "execution_count": null,
      "metadata": {},
      "outputs": [],
      "source": [
        "# Tải pretrain model\n",
        "# Tải file .zip từ liên kết\n",
        "!wget -O /content/software.zip https://github.com/talbenha/cell-tracker-gnn/releases/download/CTC/software.zip\n",
        "\n",
        "# Giải nén file .zip vào thư mục /content/software\n",
        "!unzip /content/software.zip -d /content/software\n",
        "\n",
        "# Kiểm tra nội dung thư mục đã giải nén\n",
        "!ls /content/software"
      ]
    },
    {
      "cell_type": "code",
      "execution_count": null,
      "metadata": {},
      "outputs": [],
      "source": [
        "# Đường dẫn đến mô hình pretrained đã giải nén\n",
        "export MODEL_PYTORCH_LIGHTNING='/content/software/parameters/Features_Models/PhC-C2DH-U373/all_params.pth' # TODO: update this path\n",
        "\n",
        "# Kiểm tra các đường dẫn\n",
        "if [ ! -d \"${DATASET}\" ]; then\n",
        "  echo \"Directory ${DATASET} does not exist\"\n",
        "  exit 1\n",
        "fi\n",
        "\n",
        "# Dự đoán: Chạy model để dự đoán quãng đường đi của các tế bào\n",
        "python ${CODE_TRA}/inference_clean.py -mp \"${MODEL_PYTORCH_LIGHTNING}\" -ns \"${SEQUENCE}\" -oc \"${DATASET}\"\n",
        "\n",
        "# Hậu xử lý: Tạo bản đồ nhãn từ các dự đoán\n",
        "python ${CODE_TRA}/postprocess_clean.py -modality \"${MODALITY}\" -iseg \"${DATASET}/${SEQUENCE}_GT/TRA\" -oi \"${DATASET}/${SEQUENCE}_RES_inference\""
      ]
    },
    {
      "cell_type": "markdown",
      "metadata": {
        "id": "1OvpAtQtnnuh"
      },
      "source": [
        "# 3. Run compreensive feature extraction with metric learning"
      ]
    },
    {
      "cell_type": "code",
      "execution_count": null,
      "metadata": {
        "id": "woSZYUsI9EED"
      },
      "outputs": [],
      "source": [
        "%%bash\n",
        "source activate cell-tracking-challenge\n",
        "export HYDRA_FULL_ERROR=1\n",
        "export FOLDER_PATH=/content/drive/MyDrive/CellTracking/nature_method_ctc # TODO: update this path\n",
        "export METRIC_PATH=/content/drive/MyDrive/CellTracking/nature_method_ctc/software/parameters/Features_Models/PhC-C2DH-U373/all_params.pth # TODO: update this path\n",
        "export DATA_NAME=PhC-C2DH-U373 # TODO: update this path\n",
        "\n",
        "python run_feat_extract.py params.input_images=\"${FOLDER_PATH}/${DATA_NAME}\" params.input_masks=\"${FOLDER_PATH}/${DATA_NAME}\" params.input_seg=\"${FOLDER_PATH}/${DATA_NAME}\" params.output_csv=\"${FOLDER_PATH}/ct_features/\" params.sequences=['01','02']  params.seg_dir='_GT/TRA' params.basic=False params.input_model=\"${METRIC_PATH}\""
      ]
    },
    {
      "cell_type": "markdown",
      "metadata": {
        "id": "OXnZvVp9oKG0"
      },
      "source": [
        "# 4. Run Cell Tracking training"
      ]
    },
    {
      "cell_type": "code",
      "execution_count": null,
      "metadata": {
        "id": "U4eR_tFE9HTz"
      },
      "outputs": [],
      "source": [
        "%%bash\n",
        "source activate cell-tracking-challenge\n",
        "export HYDRA_FULL_ERROR=1\n",
        "export FOLDER_PATH=/content/drive/MyDrive/CellTracking/nature_method_ctc # TODO: update this path\n",
        "export DATA_NAME=PhC-C2DH-U373 # TODO: update this path\n",
        "# cell tracking training run\n",
        "python run.py datamodule.dataset_params.main_path=\"${FOLDER_PATH}/ct_features/${DATA_NAME}\" datamodule.dataset_params.exp_name=\"2D_SIM\" datamodule.dataset_params.drop_feat=[]"
      ]
    },
    {
      "cell_type": "markdown",
      "metadata": {
        "id": "24ah3IId9ZaR"
      },
      "source": [
        "# **Inference**\n",
        "Update the following variables:\n",
        "\n",
        "\n",
        "*   MODEL_PYTORCH_LIGHTNING - according to the output of the previius cell\n",
        "*   MODEL_METRIC_LEARNING\n",
        "*   FOLDER_PATH - path to folder that contains the dataset\n",
        "*   MODALITY\n",
        "\n",
        "\n",
        "\n"
      ]
    },
    {
      "cell_type": "code",
      "execution_count": null,
      "metadata": {
        "id": "BsR9ClZn9Yvp"
      },
      "outputs": [],
      "source": [
        "%%bash\n",
        "source activate cell-tracking-challenge\n",
        "export SEQUENCE=01 # sequence number\n",
        "export FOLDER_PATH=/content/drive/MyDrive/CellTracking/nature_method_ctc # TODO: update this path\n",
        "export MODEL_METRIC_LEARNING=/content/drive/MyDrive/CellTracking/nature_method_ctc/software/parameters/Features_Models/PhC-C2DH-U373/all_params.pth # TODO: update this path\n",
        "export MODEL_PYTORCH_LIGHTNING='/content/cell-tracker-gnn/logs/runs/2022-07-16/19-37-07/checkpoints/epoch=37.ckpt'\n",
        "export DATA_NAME=PhC-C2DH-U373 # TODO: update this path\n",
        "export MODALITY=\"2D\"  # dataset modality\n",
        "\n",
        "export DATASET=\"${FOLDER_PATH}/${DATA_NAME}\"\n",
        "export CODE_TRA=src/inference/\n",
        "export PYTHONPATH=/content/cell-tracker-gnn\n",
        "\n",
        "# our model needs CSVs, so let's create from image and segmentation.\n",
        "python ${CODE_TRA}/preprocess_seq2graph_clean.py -cs 20 -ii \"${DATASET}/${SEQUENCE}\" -iseg \"${DATASET}/${SEQUENCE}_GT/TRA\" -im \"${MODEL_METRIC_LEARNING}\" -oc \"${DATASET}/${SEQUENCE}_CSV\"\n",
        "\n",
        "# run the prediction\n",
        "python ${CODE_TRA}/inference_clean.py -mp \"${MODEL_PYTORCH_LIGHTNING}\" -ns \"${SEQUENCE}\" -oc \"${DATASET}\"\n",
        "\n",
        "# create label maps\n",
        "python ${CODE_TRA}/postprocess_clean.py -modality \"${MODALITY}\" -iseg \"${DATASET}/${SEQUENCE}_GT/TRA\" -oi \"${DATASET}/${SEQUENCE}_RES_inference\"\n"
      ]
    }
  ],
  "metadata": {
    "accelerator": "GPU",
    "colab": {
      "provenance": []
    },
    "kernelspec": {
      "display_name": "Python 3",
      "name": "python3"
    },
    "language_info": {
      "name": "python"
    }
  },
  "nbformat": 4,
  "nbformat_minor": 0
}
